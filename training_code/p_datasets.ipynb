{
 "cells": [
  {
   "cell_type": "code",
   "execution_count": 2,
   "metadata": {},
   "outputs": [],
   "source": [
    "from tqdm import tqdm\n",
    "import json\n",
    "def dataset_jsonl_transfer(origin_path, new_path):\n",
    "    \"\"\"\n",
    "    将原始数据集转换为大模型微调所需数据格式的新数据集\n",
    "    \"\"\"\n",
    "    messages = []\n",
    "\n",
    "    # 读取旧的JSONL文件\n",
    "    with open(origin_path, \"r\") as file:\n",
    "        tqdm1 = tqdm\n",
    "        for line in tqdm1(file):\n",
    "            # 解析每一行的json数据\n",
    "            data = json.loads(line)\n",
    "            problem = data[\"problem\"]\n",
    "            for question in data['questions']:\n",
    "                # print(\"题目:{}\\n问题:\\n{}\\n选项:\\n{}\".format(problem,question['question'],'\\n'.join(f\"{'ABCDEFG'[i]}. {o}\" for i, o in enumerate(question['options']))))\n",
    "                prompt = {\"instruction\":\"\"\"你是一个逻辑推理专家，擅长解决逻辑推理问题。以下是一个逻辑推理的题目，形式为单项选择题。所有的问题都是（close-world assumption）闭世界假设，即未观测事实都为假。请逐步分析问题并在最后一行输出答案，最后一行的格式为:答案是：A\"\"\",\n",
    "                          \"input\": \"题目:{}\\n问题:\\n{}\\n选项:\\n{}\".format(problem,question['question'],'\\n'.join(f\"{'ABCDEFG'[i]}. {o}\" for i, o in enumerate(question['options']))),\n",
    "                          \"output\":question['answer']}\n",
    "                                    \n",
    "                messages.append(prompt)\n",
    "        # 保存重构后的JSONL文件\n",
    "    with open(new_path, \"w\", encoding=\"utf-8\") as file:\n",
    "        for message in messages:\n",
    "            file.write(json.dumps(message, ensure_ascii=False) + \"\\n\")\n",
    "        "
   ]
  },
  {
   "cell_type": "code",
   "execution_count": 3,
   "metadata": {},
   "outputs": [],
   "source": [
    "# train_dir=\"/home/tom/fssd/code/app/new_p_testdata.jsonl\"\n",
    "test_dir=\"/home/un/桌面/QC/天池世界科学智能大赛/round1_train_data.jsonl\"\n",
    "\n",
    "# new_train_json_dir=\"/home/tom/fssd/code/app/new_testdata.json\"\n",
    "new_test_json_dir=\"/home/un/桌面/QC/天池世界科学智能大赛/round1_train_data_new.jsonl\""
   ]
  },
  {
   "cell_type": "code",
   "execution_count": 4,
   "metadata": {},
   "outputs": [
    {
     "name": "stderr",
     "output_type": "stream",
     "text": [
      "500it [00:00, 66667.26it/s]\n"
     ]
    }
   ],
   "source": [
    "dataset_jsonl_transfer(train_dir,new_train_json_dir)"
   ]
  },
  {
   "cell_type": "code",
   "execution_count": null,
   "metadata": {},
   "outputs": [],
   "source": [
    "# dataset_jsonl_transfer(test_dir,new_test_json_dir)"
   ]
  }
 ],
 "metadata": {
  "kernelspec": {
   "display_name": "base",
   "language": "python",
   "name": "python3"
  },
  "language_info": {
   "codemirror_mode": {
    "name": "ipython",
    "version": 3
   },
   "file_extension": ".py",
   "mimetype": "text/x-python",
   "name": "python",
   "nbconvert_exporter": "python",
   "pygments_lexer": "ipython3",
   "version": "3.11.7"
  }
 },
 "nbformat": 4,
 "nbformat_minor": 2
}
